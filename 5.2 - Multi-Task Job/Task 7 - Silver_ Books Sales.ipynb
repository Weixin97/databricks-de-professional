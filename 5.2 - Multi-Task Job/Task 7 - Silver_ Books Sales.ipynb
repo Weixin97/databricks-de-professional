{
 "cells": [
  {
   "cell_type": "code",
   "execution_count": 0,
   "metadata": {
    "application/vnd.databricks.v1+cell": {
     "cellMetadata": {},
     "inputWidgets": {},
     "nuid": "177693e3-fa7b-417c-8c2e-4f6d7ae25d21",
     "showTitle": false,
     "title": ""
    }
   },
   "outputs": [],
   "source": [
    "%run ../../Includes/Copy-Datasets"
   ]
  },
  {
   "cell_type": "code",
   "execution_count": 0,
   "metadata": {
    "application/vnd.databricks.v1+cell": {
     "cellMetadata": {},
     "inputWidgets": {},
     "nuid": "16a2a00d-a2c3-4717-803f-05ae655b5dd1",
     "showTitle": false,
     "title": ""
    }
   },
   "outputs": [],
   "source": [
    "from pyspark.sql import functions as F"
   ]
  },
  {
   "cell_type": "code",
   "execution_count": 0,
   "metadata": {
    "application/vnd.databricks.v1+cell": {
     "cellMetadata": {},
     "inputWidgets": {},
     "nuid": "4d136521-79d4-46fd-8537-98714f8432f6",
     "showTitle": false,
     "title": ""
    }
   },
   "outputs": [],
   "source": [
    "def process_books_sales():\n",
    "    \n",
    "    orders_df = (spark.readStream.table(\"orders_silver\")\n",
    "                        .withColumn(\"book\", F.explode(\"books\"))\n",
    "                )\n",
    "\n",
    "    books_df = spark.read.table(\"current_books\")\n",
    "\n",
    "    query = (orders_df\n",
    "                  .join(books_df, orders_df.book.book_id == books_df.book_id, \"inner\")\n",
    "                  .writeStream\n",
    "                     .outputMode(\"append\")\n",
    "                     .option(\"checkpointLocation\", \"dbfs:/mnt/demo_pro/checkpoints/books_sales\")\n",
    "                     .trigger(availableNow=True)\n",
    "                     .table(\"books_sales\")\n",
    "    )\n",
    "\n",
    "    query.awaitTermination()\n",
    "    \n",
    "process_books_sales()"
   ]
  }
 ],
 "metadata": {
  "application/vnd.databricks.v1+notebook": {
   "dashboards": [],
   "environmentMetadata": null,
   "language": "python",
   "notebookMetadata": {},
   "notebookName": "Task 7 - Silver_ Books Sales",
   "widgets": {}
  }
 },
 "nbformat": 4,
 "nbformat_minor": 0
}
