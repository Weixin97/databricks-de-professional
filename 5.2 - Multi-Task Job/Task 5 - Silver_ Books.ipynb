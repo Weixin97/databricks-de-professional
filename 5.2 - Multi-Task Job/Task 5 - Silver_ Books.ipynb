{
 "cells": [
  {
   "cell_type": "code",
   "execution_count": 0,
   "metadata": {
    "application/vnd.databricks.v1+cell": {
     "cellMetadata": {},
     "inputWidgets": {},
     "nuid": "d2baa415-2a6f-468b-a2f4-72128734dc96",
     "showTitle": false,
     "title": ""
    }
   },
   "outputs": [],
   "source": [
    "%run ../../Includes/Copy-Datasets"
   ]
  },
  {
   "cell_type": "code",
   "execution_count": 0,
   "metadata": {
    "application/vnd.databricks.v1+cell": {
     "cellMetadata": {},
     "inputWidgets": {},
     "nuid": "881a7029-8b10-45a3-8a05-a4292a5c8bbc",
     "showTitle": false,
     "title": ""
    }
   },
   "outputs": [],
   "source": [
    "from pyspark.sql import functions as F"
   ]
  },
  {
   "cell_type": "code",
   "execution_count": 0,
   "metadata": {
    "application/vnd.databricks.v1+cell": {
     "cellMetadata": {},
     "inputWidgets": {},
     "nuid": "e3d6cb5b-4991-4b07-bed4-61479bff420a",
     "showTitle": false,
     "title": ""
    }
   },
   "outputs": [],
   "source": [
    "def type2_upsert(microBatchDF, batch):\n",
    "    microBatchDF.createOrReplaceTempView(\"updates\")\n",
    "    \n",
    "    sql_query = \"\"\"\n",
    "        MERGE INTO books_silver\n",
    "        USING (\n",
    "            SELECT updates.book_id as merge_key, updates.*\n",
    "            FROM updates\n",
    "\n",
    "            UNION ALL\n",
    "\n",
    "            SELECT NULL as merge_key, updates.*\n",
    "            FROM updates\n",
    "            JOIN books_silver ON updates.book_id = books_silver.book_id\n",
    "            WHERE books_silver.current = true AND updates.price <> books_silver.price\n",
    "          ) staged_updates\n",
    "        ON books_silver.book_id = merge_key \n",
    "        WHEN MATCHED AND books_silver.current = true AND books_silver.price <> staged_updates.price THEN\n",
    "          UPDATE SET current = false, end_date = staged_updates.updated\n",
    "        WHEN NOT MATCHED THEN\n",
    "          INSERT (book_id, title, author, price, current, effective_date, end_date)\n",
    "          VALUES (staged_updates.book_id, staged_updates.title, staged_updates.author, staged_updates.price, true, staged_updates.updated, NULL)\n",
    "    \"\"\"\n",
    "    \n",
    "    microBatchDF.sparkSession.sql(sql_query)"
   ]
  },
  {
   "cell_type": "code",
   "execution_count": 0,
   "metadata": {
    "application/vnd.databricks.v1+cell": {
     "cellMetadata": {},
     "inputWidgets": {},
     "nuid": "8f5a507a-9a35-41b3-be0e-7065cdb8254a",
     "showTitle": false,
     "title": ""
    }
   },
   "outputs": [],
   "source": [
    "%sql\n",
    "CREATE TABLE IF NOT EXISTS books_silver\n",
    "(book_id STRING, title STRING, author STRING, price DOUBLE, current BOOLEAN, effective_date TIMESTAMP, end_date TIMESTAMP)"
   ]
  },
  {
   "cell_type": "code",
   "execution_count": 0,
   "metadata": {
    "application/vnd.databricks.v1+cell": {
     "cellMetadata": {},
     "inputWidgets": {},
     "nuid": "981a1dd8-c04e-493e-8e1d-35687485ca17",
     "showTitle": false,
     "title": ""
    }
   },
   "outputs": [],
   "source": [
    "def porcess_books():\n",
    "    schema = \"book_id STRING, title STRING, author STRING, price DOUBLE, updated TIMESTAMP\"\n",
    " \n",
    "    query = (spark.readStream\n",
    "                    .table(\"bronze\")\n",
    "                    .filter(\"topic = 'books'\")\n",
    "                    .select(F.from_json(F.col(\"value\").cast(\"string\"), schema).alias(\"v\"))\n",
    "                    .select(\"v.*\")\n",
    "                 .writeStream\n",
    "                    .foreachBatch(type2_upsert)\n",
    "                    .option(\"checkpointLocation\", \"dbfs:/mnt/demo_pro/checkpoints/books_silver\")\n",
    "                    .trigger(availableNow=True)\n",
    "                    .start()\n",
    "            )\n",
    "    \n",
    "    query.awaitTermination()\n",
    "    \n",
    "porcess_books()"
   ]
  },
  {
   "cell_type": "code",
   "execution_count": 0,
   "metadata": {
    "application/vnd.databricks.v1+cell": {
     "cellMetadata": {},
     "inputWidgets": {},
     "nuid": "ee93ba27-8842-495e-99ca-cb719ef8daa3",
     "showTitle": false,
     "title": ""
    }
   },
   "outputs": [],
   "source": [
    "%sql\n",
    "CREATE OR REPLACE TABLE current_books\n",
    "AS SELECT book_id, title, author, price\n",
    "   FROM books_silver\n",
    "   WHERE current IS TRUE"
   ]
  }
 ],
 "metadata": {
  "application/vnd.databricks.v1+notebook": {
   "dashboards": [],
   "environmentMetadata": null,
   "language": "python",
   "notebookMetadata": {},
   "notebookName": "Task 5 - Silver_ Books",
   "widgets": {}
  }
 },
 "nbformat": 4,
 "nbformat_minor": 0
}
