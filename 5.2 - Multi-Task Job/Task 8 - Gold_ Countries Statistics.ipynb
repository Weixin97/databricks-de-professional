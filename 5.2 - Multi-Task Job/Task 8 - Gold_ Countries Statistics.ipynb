{
 "cells": [
  {
   "cell_type": "code",
   "execution_count": 0,
   "metadata": {
    "application/vnd.databricks.v1+cell": {
     "cellMetadata": {},
     "inputWidgets": {},
     "nuid": "4015fa49-0b10-48aa-8871-ba37399d65ce",
     "showTitle": false,
     "title": ""
    }
   },
   "outputs": [],
   "source": [
    "%run ../../Includes/Copy-Datasets"
   ]
  },
  {
   "cell_type": "code",
   "execution_count": 0,
   "metadata": {
    "application/vnd.databricks.v1+cell": {
     "cellMetadata": {},
     "inputWidgets": {},
     "nuid": "a6e32f71-1c88-44bd-8d19-6ad53dce8794",
     "showTitle": false,
     "title": ""
    }
   },
   "outputs": [],
   "source": [
    "%sql\n",
    "\n",
    "CREATE VIEW IF NOT EXISTS countries_stats_vw AS (\n",
    "  SELECT country, date_trunc(\"DD\", order_timestamp) order_date, count(order_id) orders_count, sum(quantity) books_count\n",
    "  FROM customers_orders\n",
    "  GROUP BY country, date_trunc(\"DD\", order_timestamp)\n",
    ")"
   ]
  }
 ],
 "metadata": {
  "application/vnd.databricks.v1+notebook": {
   "dashboards": [],
   "environmentMetadata": null,
   "language": "python",
   "notebookMetadata": {},
   "notebookName": "Task 8 - Gold_ Countries Statistics",
   "widgets": {}
  }
 },
 "nbformat": 4,
 "nbformat_minor": 0
}
