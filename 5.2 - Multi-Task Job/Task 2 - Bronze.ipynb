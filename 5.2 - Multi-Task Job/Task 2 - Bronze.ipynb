{
 "cells": [
  {
   "cell_type": "code",
   "execution_count": 0,
   "metadata": {
    "application/vnd.databricks.v1+cell": {
     "cellMetadata": {},
     "inputWidgets": {},
     "nuid": "d9888043-15df-4c88-80d4-716bbb1131da",
     "showTitle": false,
     "title": ""
    }
   },
   "outputs": [],
   "source": [
    "%run ../../Includes/Copy-Datasets"
   ]
  },
  {
   "cell_type": "code",
   "execution_count": 0,
   "metadata": {
    "application/vnd.databricks.v1+cell": {
     "cellMetadata": {},
     "inputWidgets": {},
     "nuid": "5768c6fb-b757-43ae-9d85-a86873bf272f",
     "showTitle": false,
     "title": ""
    }
   },
   "outputs": [],
   "source": [
    "from pyspark.sql import functions as F"
   ]
  },
  {
   "cell_type": "code",
   "execution_count": 0,
   "metadata": {
    "application/vnd.databricks.v1+cell": {
     "cellMetadata": {},
     "inputWidgets": {},
     "nuid": "666af644-92a1-4f79-ae93-b2f970f586e9",
     "showTitle": false,
     "title": ""
    }
   },
   "outputs": [],
   "source": [
    "def process_bronze():\n",
    "  \n",
    "    schema = \"key BINARY, value BINARY, topic STRING, partition LONG, offset LONG, timestamp LONG\"\n",
    "\n",
    "    query = (spark.readStream\n",
    "                        .format(\"cloudFiles\")\n",
    "                        .option(\"cloudFiles.format\", \"json\")\n",
    "                        .schema(schema)\n",
    "                        .load(f\"{dataset_bookstore}/kafka-raw\")\n",
    "                        .withColumn(\"timestamp\", (F.col(\"timestamp\")/1000).cast(\"timestamp\"))  \n",
    "                        .withColumn(\"year_month\", F.date_format(\"timestamp\", \"yyyy-MM\"))\n",
    "                  .writeStream\n",
    "                      .option(\"checkpointLocation\", \"dbfs:/mnt/demo_pro/checkpoints/bronze\")\n",
    "                      .option(\"mergeSchema\", True)\n",
    "                      .partitionBy(\"topic\", \"year_month\")\n",
    "                      .trigger(availableNow=True)\n",
    "                      .table(\"bronze\"))\n",
    "    \n",
    "    query.awaitTermination()"
   ]
  },
  {
   "cell_type": "code",
   "execution_count": 0,
   "metadata": {
    "application/vnd.databricks.v1+cell": {
     "cellMetadata": {},
     "inputWidgets": {},
     "nuid": "6c42fb18-589b-4f49-ae69-96787468e8e9",
     "showTitle": false,
     "title": ""
    }
   },
   "outputs": [],
   "source": [
    "process_bronze()"
   ]
  }
 ],
 "metadata": {
  "application/vnd.databricks.v1+notebook": {
   "dashboards": [],
   "environmentMetadata": null,
   "language": "python",
   "notebookMetadata": {},
   "notebookName": "Task 2 - Bronze",
   "widgets": {}
  }
 },
 "nbformat": 4,
 "nbformat_minor": 0
}
