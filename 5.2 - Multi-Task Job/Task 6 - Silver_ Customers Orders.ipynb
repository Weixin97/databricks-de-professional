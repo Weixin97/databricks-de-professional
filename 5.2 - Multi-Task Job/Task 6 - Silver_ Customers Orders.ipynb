{
 "cells": [
  {
   "cell_type": "code",
   "execution_count": 0,
   "metadata": {
    "application/vnd.databricks.v1+cell": {
     "cellMetadata": {},
     "inputWidgets": {},
     "nuid": "1bb0f5ed-51d6-43ad-a7d3-c91e12d7d8ae",
     "showTitle": false,
     "title": ""
    }
   },
   "outputs": [],
   "source": [
    "%run ../../Includes/Copy-Datasets"
   ]
  },
  {
   "cell_type": "code",
   "execution_count": 0,
   "metadata": {
    "application/vnd.databricks.v1+cell": {
     "cellMetadata": {},
     "inputWidgets": {},
     "nuid": "39d7605c-98c5-4977-93a6-15f261de7125",
     "showTitle": false,
     "title": ""
    }
   },
   "outputs": [],
   "source": [
    "from pyspark.sql import functions as F\n",
    "from pyspark.sql.window import Window"
   ]
  },
  {
   "cell_type": "code",
   "execution_count": 0,
   "metadata": {
    "application/vnd.databricks.v1+cell": {
     "cellMetadata": {},
     "inputWidgets": {},
     "nuid": "505cceec-dab5-4151-98cf-a043f7a463a8",
     "showTitle": false,
     "title": ""
    }
   },
   "outputs": [],
   "source": [
    "def batch_upsert(microBatchDF, batchId):\n",
    "    window = Window.partitionBy(\"order_id\", \"customer_id\").orderBy(F.col(\"_commit_timestamp\").desc())\n",
    "    \n",
    "    (microBatchDF.filter(F.col(\"_change_type\").isin([\"insert\", \"update_postimage\"]))\n",
    "                 .withColumn(\"rank\", F.rank().over(window))\n",
    "                 .filter(\"rank = 1\")\n",
    "                 .drop(\"rank\", \"_change_type\", \"_commit_version\")\n",
    "                 .withColumnRenamed(\"_commit_timestamp\", \"processed_timestamp\")\n",
    "                 .createOrReplaceTempView(\"ranked_updates\"))\n",
    "    \n",
    "    query = \"\"\"\n",
    "        MERGE INTO customers_orders c\n",
    "        USING ranked_updates r\n",
    "        ON c.order_id=r.order_id AND c.customer_id=r.customer_id\n",
    "            WHEN MATCHED AND c.processed_timestamp < r.processed_timestamp\n",
    "              THEN UPDATE SET *\n",
    "            WHEN NOT MATCHED\n",
    "              THEN INSERT *\n",
    "    \"\"\"\n",
    "    \n",
    "    microBatchDF.sparkSession.sql(query)"
   ]
  },
  {
   "cell_type": "code",
   "execution_count": 0,
   "metadata": {
    "application/vnd.databricks.v1+cell": {
     "cellMetadata": {},
     "inputWidgets": {},
     "nuid": "5a8bc029-1cfc-475d-be7a-c0641a532cbf",
     "showTitle": false,
     "title": ""
    }
   },
   "outputs": [],
   "source": [
    "%sql\n",
    "CREATE TABLE IF NOT EXISTS customers_orders\n",
    "(order_id STRING, order_timestamp Timestamp, customer_id STRING, quantity BIGINT, total BIGINT, books ARRAY<STRUCT<book_id STRING, quantity BIGINT, subtotal BIGINT>>, email STRING, first_name STRING, last_name STRING, gender STRING, street STRING, city STRING, country STRING, row_time TIMESTAMP, processed_timestamp TIMESTAMP)"
   ]
  },
  {
   "cell_type": "code",
   "execution_count": 0,
   "metadata": {
    "application/vnd.databricks.v1+cell": {
     "cellMetadata": {},
     "inputWidgets": {},
     "nuid": "d3cee8c7-ea14-4749-97c0-f377b0c431eb",
     "showTitle": false,
     "title": ""
    }
   },
   "outputs": [],
   "source": [
    "def porcess_customers_orders():\n",
    "    orders_df = spark.readStream.table(\"orders_silver\")\n",
    "    \n",
    "    cdf_customers_df = (spark.readStream\n",
    "                             .option(\"readChangeData\", True)\n",
    "                             .option(\"startingVersion\", 2)\n",
    "                             .table(\"customers_silver\")\n",
    "                       )\n",
    "\n",
    "    query = (orders_df\n",
    "                .join(cdf_customers_df, [\"customer_id\"], \"inner\")\n",
    "                .writeStream\n",
    "                    .foreachBatch(batch_upsert)\n",
    "                    .option(\"checkpointLocation\", \"dbfs:/mnt/demo_pro/checkpoints/customers_orders\")\n",
    "                    .trigger(availableNow=True)\n",
    "                    .start()\n",
    "            )\n",
    "    \n",
    "    query.awaitTermination()\n",
    "    \n",
    "porcess_customers_orders()"
   ]
  }
 ],
 "metadata": {
  "application/vnd.databricks.v1+notebook": {
   "dashboards": [],
   "environmentMetadata": null,
   "language": "python",
   "notebookMetadata": {},
   "notebookName": "Task 6 - Silver_ Customers Orders",
   "widgets": {}
  }
 },
 "nbformat": 4,
 "nbformat_minor": 0
}
