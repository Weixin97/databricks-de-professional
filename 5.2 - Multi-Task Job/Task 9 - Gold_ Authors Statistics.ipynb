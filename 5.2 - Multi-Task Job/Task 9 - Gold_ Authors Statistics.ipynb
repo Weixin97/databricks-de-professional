{
 "cells": [
  {
   "cell_type": "code",
   "execution_count": 0,
   "metadata": {
    "application/vnd.databricks.v1+cell": {
     "cellMetadata": {},
     "inputWidgets": {},
     "nuid": "5a7d8f65-09e5-4c59-a68b-9650521db4da",
     "showTitle": false,
     "title": ""
    }
   },
   "outputs": [],
   "source": [
    "%run ../../Includes/Copy-Datasets"
   ]
  },
  {
   "cell_type": "code",
   "execution_count": 0,
   "metadata": {
    "application/vnd.databricks.v1+cell": {
     "cellMetadata": {},
     "inputWidgets": {},
     "nuid": "5f7c518b-5b19-4b48-8046-f009cee15e37",
     "showTitle": false,
     "title": ""
    }
   },
   "outputs": [],
   "source": [
    "from pyspark.sql import functions as F"
   ]
  },
  {
   "cell_type": "code",
   "execution_count": 0,
   "metadata": {
    "application/vnd.databricks.v1+cell": {
     "cellMetadata": {},
     "inputWidgets": {},
     "nuid": "c1395ba7-dfed-4f00-88d6-1295912b666b",
     "showTitle": false,
     "title": ""
    }
   },
   "outputs": [],
   "source": [
    "query = (spark.readStream\n",
    "                 .table(\"books_sales\")\n",
    "                 .withWatermark(\"order_timestamp\", \"10 minutes\")\n",
    "                 .groupBy(\n",
    "                     F.window(\"order_timestamp\", \"5 minutes\").alias(\"time\"),\n",
    "                     \"author\")\n",
    "                 .agg(\n",
    "                     F.count(\"order_id\").alias(\"orders_count\"),\n",
    "                     F.avg(\"quantity\").alias (\"avg_quantity\"))\n",
    "              .writeStream\n",
    "                 .option(\"checkpointLocation\", f\"dbfs:/mnt/demo_pro/checkpoints/authors_stats\")\n",
    "                 .trigger(availableNow=True)\n",
    "                 .table(\"authors_stats\")\n",
    "            )\n",
    "\n",
    "query.awaitTermination()"
   ]
  }
 ],
 "metadata": {
  "application/vnd.databricks.v1+notebook": {
   "dashboards": [],
   "environmentMetadata": null,
   "language": "python",
   "notebookMetadata": {},
   "notebookName": "Task 9 - Gold_ Authors Statistics",
   "widgets": {}
  }
 },
 "nbformat": 4,
 "nbformat_minor": 0
}
